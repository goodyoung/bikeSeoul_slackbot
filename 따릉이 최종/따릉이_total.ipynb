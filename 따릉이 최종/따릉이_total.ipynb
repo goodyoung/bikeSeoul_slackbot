{
 "cells": [
  {
   "cell_type": "code",
   "execution_count": null,
   "id": "c398b89e-83e5-48db-839f-e67974ea374c",
   "metadata": {},
   "outputs": [],
   "source": [
    "import re\n",
    "import pandas as pd\n",
    "import bikeSeoul as bs\n",
    "import distance_kakaoapi as kakao\n",
    "\n",
    "from slack_bolt import App\n",
    "from slack_bolt.adapter.socket_mode import SocketModeHandler"
   ]
  },
  {
   "cell_type": "code",
   "execution_count": null,
   "id": "d958a0ef-63ee-4c60-8460-98ccc0fc654c",
   "metadata": {
    "tags": []
   },
   "outputs": [],
   "source": [
    "app_token = #slack-app-token(soket)\n",
    "bot_token = #slack-bot-token\n",
    "app = App(token= bot_token)\n",
    "location = []\n",
    "count = 1\n",
    "@app.event(\"app_mention\")  # 앱을 언급했을 때\n",
    "def who_am_i(event, client, message, say):\n",
    "    global count, a,b\n",
    "    if count == 1:\n",
    "        say(f'안녕하세요! <@{event[\"user\"]}>님 무엇을 도와 드릴까요?')\n",
    "        count+=1\n",
    "    else:\n",
    "        #사용자의 입력 값 변환\n",
    "        user_text = event['text']\n",
    "        user_text = re.sub('[<>]*@[A-Za-z0-9]+[<>]*','',user_text)\n",
    "        #사용자 위치 알기\n",
    "        location = [user_text.strip()]\n",
    "        df = kakao.keywords(location)\n",
    "        df = df.reset_index()\n",
    "        a,b = kakao.make_map(df)\n",
    "        my_location = (float(a),float(b))\n",
    "        \n",
    "        #사용자 위치 근처 따릉이 3곳\n",
    "        s = bs.create_api()\n",
    "        df_test = bs.latilong(s,my_location)\n",
    "        df_total_distance = bs.bestdistance(df_test,s)\n",
    "        bs.make_map2(df_total_distance)\n",
    "        \n",
    "        ### 근처 따릉이 대여소 거리 계산\n",
    "        for text_station,distan in df_total_distance[['stationName','distance']].values:\n",
    "            text_station = re.sub('[0-9]+\\.','',text_station).strip()\n",
    "            distan = round(float(distan),3)\n",
    "            say(f'근처 따릉이 대여소는 {text_station}입니다.')\n",
    "            say(f'대여소까지 직선 거리는 {distan}m 입니다.')\n",
    "            \n",
    "        #html -> 사진 변환 + 사진 전송\n",
    "        path = bs.picture()\n",
    "        client.files_upload_v2(channels = event['channel'], file = path)\n",
    "        \n",
    "        \n",
    "        \n",
    "@app.event(\"message\")\n",
    "def handle_message_events(body, logger):\n",
    "    logger.info(body)\n",
    "    \n",
    "if __name__ == '__main__':\n",
    "    SocketModeHandler(app, app_token).start()\n",
    "    \n",
    "    \n",
    "#경 / 위도 별 날씨\n",
    "# 상대 경로로 바꾸기 \n",
    "# 내 위치까지 마커로 표시하기"
   ]
  },
  {
   "cell_type": "code",
   "execution_count": null,
   "id": "4e0f327f-3401-4c76-accc-cb4efe0d275e",
   "metadata": {},
   "outputs": [],
   "source": []
  }
 ],
 "metadata": {
  "kernelspec": {
   "display_name": "Python 3 (ipykernel)",
   "language": "python",
   "name": "python3"
  },
  "language_info": {
   "codemirror_mode": {
    "name": "ipython",
    "version": 3
   },
   "file_extension": ".py",
   "mimetype": "text/x-python",
   "name": "python",
   "nbconvert_exporter": "python",
   "pygments_lexer": "ipython3",
   "version": "3.10.7"
  }
 },
 "nbformat": 4,
 "nbformat_minor": 5
}
